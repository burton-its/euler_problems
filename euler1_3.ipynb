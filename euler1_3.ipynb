{
  "nbformat": 4,
  "nbformat_minor": 0,
  "metadata": {
    "colab": {
      "name": "euler1-3.ipynb",
      "provenance": [],
      "authorship_tag": "ABX9TyPU0h7ETz7f5h69xtsKJNgX",
      "include_colab_link": true
    },
    "kernelspec": {
      "name": "python3",
      "display_name": "Python 3"
    },
    "language_info": {
      "name": "python"
    }
  },
  "cells": [
    {
      "cell_type": "markdown",
      "metadata": {
        "id": "view-in-github",
        "colab_type": "text"
      },
      "source": [
        "<a href=\"https://colab.research.google.com/github/burton-its/euler_problems/blob/main/euler1_3.ipynb\" target=\"_parent\"><img src=\"https://colab.research.google.com/assets/colab-badge.svg\" alt=\"Open In Colab\"/></a>"
      ]
    },
    {
      "cell_type": "code",
      "metadata": {
        "colab": {
          "base_uri": "https://localhost:8080/"
        },
        "id": "bCUEv0LMXmne",
        "outputId": "65a7006f-f87b-410f-fca6-8d3e2035d7cc"
      },
      "source": [
        "# euler 1\n",
        "count = 0\n",
        "for n in range(1,1000):\n",
        "\tif n % 3 == 0:\n",
        "\t\tcount += n\n",
        "\telif n % 5 == 0:\n",
        "\t\tcount += n\n",
        "\n",
        "print(count)"
      ],
      "execution_count": 1,
      "outputs": [
        {
          "output_type": "stream",
          "name": "stdout",
          "text": [
            "233168\n"
          ]
        }
      ]
    },
    {
      "cell_type": "code",
      "metadata": {
        "colab": {
          "base_uri": "https://localhost:8080/"
        },
        "id": "45n4ZqQEXxJt",
        "outputId": "cc9da6e0-6cd2-4ebd-820c-18c95bce125e"
      },
      "source": [
        "#euler 2\n",
        "#formula for fibonacci \n",
        "def fib(n):\n",
        "\ta,b = 0,1\n",
        "\twhile a <= n:\n",
        "\t\ta,b = b, a + b\n",
        "\t\tif not b & 1:\n",
        "\t\t\tyield b\n",
        "\n",
        "print(sum(fib(4000000)))"
      ],
      "execution_count": 2,
      "outputs": [
        {
          "output_type": "stream",
          "name": "stdout",
          "text": [
            "4613732\n"
          ]
        }
      ]
    },
    {
      "cell_type": "code",
      "metadata": {
        "colab": {
          "base_uri": "https://localhost:8080/"
        },
        "id": "TtqxgZ1yX8jH",
        "outputId": "64bbf64d-ddf5-438c-e802-1a546128d79c"
      },
      "source": [
        "# euler 3\n",
        "num = 600851475143\n",
        "\n",
        "n = 13195\n",
        "i = 2\n",
        "\n",
        "\n",
        "while i * i < num:\n",
        "\twhile num % i == 0:\n",
        "\t\tnum = num / i\n",
        "\ti = i + 1\n",
        "\n",
        "\n",
        "print(num)\n"
      ],
      "execution_count": 3,
      "outputs": [
        {
          "output_type": "stream",
          "name": "stdout",
          "text": [
            "6857.0\n"
          ]
        }
      ]
    },
    {
      "cell_type": "code",
      "metadata": {
        "colab": {
          "base_uri": "https://localhost:8080/"
        },
        "id": "tAipnqymYC5q",
        "outputId": "b22adb53-ebe2-4649-d7fe-d70c9fab5a4d"
      },
      "source": [
        ""
      ],
      "execution_count": 5,
      "outputs": [
        {
          "output_type": "stream",
          "name": "stdout",
          "text": [
            "{12: 10, 13: 10}\n"
          ]
        }
      ]
    },
    {
      "cell_type": "code",
      "metadata": {
        "id": "Bck2kvfeYOUj"
      },
      "source": [
        ""
      ],
      "execution_count": null,
      "outputs": []
    }
  ]
}